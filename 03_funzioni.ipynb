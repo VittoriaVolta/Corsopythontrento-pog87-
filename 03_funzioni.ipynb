{
 "cells": [
  {
   "cell_type": "code",
   "execution_count": 1,
   "metadata": {},
   "outputs": [],
   "source": [
    "# funzione e identazione (metti due punti e vai a capo)\n",
    "def pitagora(a,b):\n",
    "    c = a**2 + b**2\n",
    "    return c**.5"
   ]
  },
  {
   "cell_type": "code",
   "execution_count": 2,
   "metadata": {},
   "outputs": [
    {
     "data": {
      "text/plain": [
       "5.0"
      ]
     },
     "execution_count": 2,
     "metadata": {},
     "output_type": "execute_result"
    }
   ],
   "source": [
    "pitagora(3,4)"
   ]
  },
  {
   "cell_type": "code",
   "execution_count": 3,
   "metadata": {},
   "outputs": [],
   "source": [
    "c = pitagora(3,4)"
   ]
  },
  {
   "cell_type": "code",
   "execution_count": 4,
   "metadata": {},
   "outputs": [
    {
     "name": "stdout",
     "output_type": "stream",
     "text": [
      "5.0\n"
     ]
    }
   ],
   "source": [
    "print(c)"
   ]
  },
  {
   "cell_type": "code",
   "execution_count": 5,
   "metadata": {},
   "outputs": [],
   "source": [
    "#return and print\n",
    "def pitagora(a,b):\n",
    "    c = a**2 + b**2\n",
    "    print(c)"
   ]
  },
  {
   "cell_type": "code",
   "execution_count": 6,
   "metadata": {},
   "outputs": [
    {
     "name": "stdout",
     "output_type": "stream",
     "text": [
      "25\n"
     ]
    }
   ],
   "source": [
    "pitagora(3,4)"
   ]
  },
  {
   "cell_type": "code",
   "execution_count": 7,
   "metadata": {},
   "outputs": [],
   "source": [
    "# dati altezza, larghezza, base --> trova area e volume\n",
    "# a=altezza\n",
    "# b=base\n",
    "# c=larghezza\n",
    "\n",
    "# print= mi stampa a schermo\n",
    "# return= mi crea un oggetto con due valori dentro --> meglio se usi sempre RETURN\n",
    "\n",
    "def parallelepipedo(a,b,c):\n",
    "    area=b*a\n",
    "    volume=a*b*c\n",
    "    print(area)\n",
    "    print(volume)"
   ]
  },
  {
   "cell_type": "code",
   "execution_count": 8,
   "metadata": {},
   "outputs": [
    {
     "name": "stdout",
     "output_type": "stream",
     "text": [
      "12\n",
      "24\n"
     ]
    }
   ],
   "source": [
    "parallelepipedo(3,4,2)"
   ]
  },
  {
   "cell_type": "code",
   "execution_count": 11,
   "metadata": {},
   "outputs": [],
   "source": [
    "def parallelepipedo(a,b,c):\n",
    "    area=b*a\n",
    "    volume=a*b*c\n",
    "    return area, volume"
   ]
  },
  {
   "cell_type": "code",
   "execution_count": 12,
   "metadata": {},
   "outputs": [
    {
     "data": {
      "text/plain": [
       "(12, 24)"
      ]
     },
     "execution_count": 12,
     "metadata": {},
     "output_type": "execute_result"
    }
   ],
   "source": [
    "parallelepipedo(3,4,2)"
   ]
  },
  {
   "cell_type": "code",
   "execution_count": 13,
   "metadata": {},
   "outputs": [],
   "source": [
    "a = parallelepipedo(3,4,2)"
   ]
  },
  {
   "cell_type": "code",
   "execution_count": 14,
   "metadata": {},
   "outputs": [
    {
     "data": {
      "text/plain": [
       "tuple"
      ]
     },
     "execution_count": 14,
     "metadata": {},
     "output_type": "execute_result"
    }
   ],
   "source": [
    "type(a)"
   ]
  },
  {
   "cell_type": "code",
   "execution_count": 15,
   "metadata": {},
   "outputs": [
    {
     "data": {
      "text/plain": [
       "function"
      ]
     },
     "execution_count": 15,
     "metadata": {},
     "output_type": "execute_result"
    }
   ],
   "source": [
    "type(parallelepipedo)"
   ]
  },
  {
   "cell_type": "code",
   "execution_count": 16,
   "metadata": {},
   "outputs": [
    {
     "data": {
      "text/plain": [
       "0"
      ]
     },
     "execution_count": 16,
     "metadata": {},
     "output_type": "execute_result"
    }
   ],
   "source": [
    "# indice\n",
    "a.index(12)"
   ]
  },
  {
   "cell_type": "code",
   "execution_count": 17,
   "metadata": {},
   "outputs": [
    {
     "data": {
      "text/plain": [
       "1"
      ]
     },
     "execution_count": 17,
     "metadata": {},
     "output_type": "execute_result"
    }
   ],
   "source": [
    "a.index(24)"
   ]
  },
  {
   "cell_type": "code",
   "execution_count": 38,
   "metadata": {},
   "outputs": [],
   "source": [
    "# DEFINIRE OGGETTI\n",
    "# una classe è fatta di diverse caratteristiche\n",
    "class animale:\n",
    "    def __init__(self, nome, età, peso, altezza): # doppio trattino basso\n",
    "        self.name = nome\n",
    "        self.age = età\n",
    "        self.weight = peso\n",
    "        self.height = altezza\n",
    "    def cresci(self, diquanto):\n",
    "        self.height += diquanto  # sto aumentando di self.height=self.height+diquanto\n",
    "    def ingrassa(self, diquanto):\n",
    "        self.weight += diquanto"
   ]
  },
  {
   "cell_type": "code",
   "execution_count": 39,
   "metadata": {},
   "outputs": [],
   "source": [
    "A = animale(\"giraffa\",12,89,2.31)"
   ]
  },
  {
   "cell_type": "code",
   "execution_count": 40,
   "metadata": {},
   "outputs": [],
   "source": [
    "A.cresci(0.21)"
   ]
  },
  {
   "cell_type": "code",
   "execution_count": 41,
   "metadata": {},
   "outputs": [
    {
     "data": {
      "text/plain": [
       "2.52"
      ]
     },
     "execution_count": 41,
     "metadata": {},
     "output_type": "execute_result"
    }
   ],
   "source": [
    "A.height"
   ]
  },
  {
   "cell_type": "code",
   "execution_count": 42,
   "metadata": {},
   "outputs": [],
   "source": [
    "A.ingrassa(18)"
   ]
  },
  {
   "cell_type": "code",
   "execution_count": 43,
   "metadata": {},
   "outputs": [
    {
     "data": {
      "text/plain": [
       "107"
      ]
     },
     "execution_count": 43,
     "metadata": {},
     "output_type": "execute_result"
    }
   ],
   "source": [
    "A.weight"
   ]
  },
  {
   "cell_type": "code",
   "execution_count": null,
   "metadata": {},
   "outputs": [
    {
     "name": "stdout",
     "output_type": "stream",
     "text": [
      "Turno di Vittoria\n",
      "(a: attacca, h: guarisciti) Azione: a\n",
      "Il giocatore Vittoria ha attaccato! Vita di Laura rimanente: 50\n",
      "Turno di Laura\n",
      "(a: attacca, h: guarisciti) Azione: h\n",
      "Il giocatore Laura si é guarito! Vita disponibile: 50\n",
      "Turno di Vittoria\n",
      "(a: attacca, h: guarisciti) Azione: a\n",
      "Il giocatore Vittoria ha attaccato! Vita di Laura rimanente: 30\n",
      "Turno di Laura\n",
      "(a: attacca, h: guarisciti) Azione: a\n",
      "Il giocatore Laura ha attaccato! Vita di Vittoria rimanente: 70\n",
      "Turno di Vittoria\n",
      "(a: attacca, h: guarisciti) Azione: a\n",
      "Il giocatore Vittoria ha attaccato! Vita di Laura rimanente: 10\n",
      "Turno di Laura\n",
      "(a: attacca, h: guarisciti) Azione: a\n",
      "Il giocatore Laura ha attaccato! Vita di Vittoria rimanente: 40\n",
      "Turno di Vittoria\n",
      "(a: attacca, h: guarisciti) Azione: a\n",
      "Il giocatore Vittoria ha attaccato! Vita di Laura rimanente: -10\n",
      "Laura ha perso!\n",
      "Fine del gioco!\n",
      "Turno di Laura\n",
      "(a: attacca, h: guarisciti) Azione: a\n",
      "Il giocatore Laura ha attaccato! Vita di Vittoria rimanente: 10\n",
      "Turno di Vittoria\n",
      "(a: attacca, h: guarisciti) Azione: a\n",
      "Il giocatore Vittoria ha attaccato! Vita di Laura rimanente: -30\n",
      "Laura ha perso!\n",
      "Fine del gioco!\n",
      "Turno di Laura\n",
      "(a: attacca, h: guarisciti) Azione: a\n",
      "Il giocatore Laura ha attaccato! Vita di Vittoria rimanente: -20\n",
      "Vittoria ha perso!\n",
      "Fine del gioco!\n",
      "Turno di Vittoria\n",
      "(a: attacca, h: guarisciti) Azione: a\n",
      "Il giocatore Vittoria ha attaccato! Vita di Laura rimanente: -50\n",
      "Laura ha perso!\n",
      "Fine del gioco!\n",
      "Turno di Laura\n",
      "(a: attacca, h: guarisciti) Azione: a\n",
      "Il giocatore Laura ha attaccato! Vita di Vittoria rimanente: -50\n",
      "Vittoria ha perso!\n",
      "Fine del gioco!\n",
      "Turno di Vittoria\n",
      "(a: attacca, h: guarisciti) Azione: a\n",
      "Il giocatore Vittoria ha attaccato! Vita di Laura rimanente: -70\n",
      "Laura ha perso!\n",
      "Fine del gioco!\n",
      "Turno di Laura\n",
      "(a: attacca, h: guarisciti) Azione: a\n",
      "Il giocatore Laura ha attaccato! Vita di Vittoria rimanente: -80\n",
      "Vittoria ha perso!\n",
      "Fine del gioco!\n",
      "Turno di Vittoria\n",
      "(a: attacca, h: guarisciti) Azione: exit()\n",
      "Hai sbagliato comando e perso tempo! Tocca all'avversario!\n",
      "Laura ha perso!\n",
      "Fine del gioco!\n",
      "Turno di Laura\n"
     ]
    }
   ],
   "source": [
    "# VIDEOGIOCHI\n",
    "# Vedi marcioz98 su github : https://github.com/marcioz98/PyGameGoesBackToSchool \n",
    "\n",
    "# health points=hp\n",
    "# damage (quanti punti toglie all'altro giocatore quando attacca) =dmg\n",
    "\n",
    "import random\n",
    "\n",
    "class Player:\n",
    "    def __init__(self, name, hp, dmg):    # dmg=damage\n",
    "        self.name = name\n",
    "        self.hp = hp\n",
    "        self.dmg = dmg\n",
    "        \n",
    "    def attack(self, other):\n",
    "        other.hp -= self.dmg\n",
    "        \n",
    "    def heal(self):\n",
    "        self.hp +- random.randint(5, 25)\n",
    "        \n",
    "player1 = Player(\"Vittoria\", 100, 20)\n",
    "player2 = Player(\"Laura\", 70,30)\n",
    "\n",
    "current_player = player1\n",
    "waiting_player = player2\n",
    "\n",
    "while True:\n",
    "    print(\"Turno di\", current_player.name)\n",
    "    move = input(\"(a: attacca, h: guarisciti) Azione: \")\n",
    "    if move == \"a\":\n",
    "        current_player.attack(waiting_player)\n",
    "        print(\"Il giocatore\", current_player.name, \"ha attaccato! Vita di\",\n",
    "              waiting_player.name, \"rimanente:\", waiting_player.hp)\n",
    "    elif move == \"h\":\n",
    "        current_player.heal()\n",
    "        print(\"Il giocatore\", current_player.name,\n",
    "              \"si é guarito! Vita disponibile:\", current_player.hp)\n",
    "    else:\n",
    "        print(\"Hai sbagliato comando e perso tempo! Tocca all'avversario!\")\n",
    "\n",
    "    if(waiting_player.hp) <= 0:\n",
    "        print(waiting_player.name, \"ha perso!\\nFine del gioco!\")\n",
    "        exit()\n",
    "\n",
    "    current_player, waiting_player = waiting_player, current_player"
   ]
  },
  {
   "cell_type": "code",
   "execution_count": null,
   "metadata": {},
   "outputs": [],
   "source": [
    "# HOMEWORK:\n",
    "# definisci oggetto triangolo rettangolo con due cateti. Una funzione che calcoli ipotenusa, area triangolo \n",
    "# perimetro rettangolo \n",
    "\n",
    "# a=cateto1\n",
    "# b=cateto2\n",
    "# c=ipotenusa\n",
    "\n",
    "# CHIEDI\n",
    "\n",
    "class triangolo:\n",
    "    def __init__(self, cateto1, cateto2, ipotenusa): # doppio trattino basso\n",
    "        self.name = nome\n",
    "        self.a = cateto1\n",
    "        self.b = cateto2\n",
    "        self.c = ipotenusa\n",
    "    def pitagora (self,...):\n",
    "        c = cateto1**2 + cateto2**2\n",
    "        self.c = c**.5\n",
    "    def area (self, diquanto):\n",
    "        self.weight += diquanto\n",
    "\n"
   ]
  },
  {
   "cell_type": "code",
   "execution_count": null,
   "metadata": {},
   "outputs": [],
   "source": []
  },
  {
   "cell_type": "code",
   "execution_count": null,
   "metadata": {},
   "outputs": [],
   "source": []
  }
 ],
 "metadata": {
  "kernelspec": {
   "display_name": "Python 3",
   "language": "python",
   "name": "python3"
  },
  "language_info": {
   "codemirror_mode": {
    "name": "ipython",
    "version": 3
   },
   "file_extension": ".py",
   "mimetype": "text/x-python",
   "name": "python",
   "nbconvert_exporter": "python",
   "pygments_lexer": "ipython3",
   "version": "3.6.5"
  }
 },
 "nbformat": 4,
 "nbformat_minor": 2
}
