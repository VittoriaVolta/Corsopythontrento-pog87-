{
 "cells": [
  {
   "cell_type": "code",
   "execution_count": null,
   "metadata": {},
   "outputs": [],
   "source": [
    "print(\"Benvenuto!\")\n",
    "a = input(\"Inserire primo cateto: \")\n",
    "b = input(\"Inserire secondo cateto: \")\n",
    "\n",
    "a=int(a)\n",
    "b=int(b)\n",
    "\n",
    "print (\"L'ipotenusa del triangolo di cateti lunghi %d e %d\" % (a,b))\n",
    "print (\"rullo di tamburi...\")\n",
    "\n",
    "c=(a**2 + b**2)**.5\n",
    "\n",
    "print(c)"
   ]
  },
  {
   "cell_type": "code",
   "execution_count": null,
   "metadata": {},
   "outputs": [],
   "source": []
  }
 ],
 "metadata": {
  "kernelspec": {
   "display_name": "Python 3",
   "language": "python",
   "name": "python3"
  }
 },
 "nbformat": 4,
 "nbformat_minor": 2
}
